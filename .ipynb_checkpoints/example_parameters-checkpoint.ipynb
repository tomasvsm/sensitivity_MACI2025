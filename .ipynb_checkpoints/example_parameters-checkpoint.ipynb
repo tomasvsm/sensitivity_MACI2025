{
 "cells": [
  {
   "cell_type": "code",
   "execution_count": 1,
   "metadata": {},
   "outputs": [],
   "source": [
    "import time\n",
    "import numpy as np\n",
    "import pandas as pd\n",
    "import datetime\n",
    "\n",
    "from utils import getPrecipitationsFromCsv\n",
    "from config import Configuration\n",
    "from model import Model"
   ]
  },
  {
   "cell_type": "code",
   "execution_count": 2,
   "metadata": {},
   "outputs": [],
   "source": [
    "def myConf(dictionary=None):\n",
    "\n",
    "    configuration = Configuration('example.cfg')\n",
    "\n",
    "    if dictionary:\n",
    "        for section in dictionary:\n",
    "            for key in dictionary[section]:\n",
    "                value = dictionary[section][key]\n",
    "                if isinstance(value,list):\n",
    "                    configuration.config_parser.set(section, key,','.join([str(x) for x in value]))\n",
    "                else:\n",
    "                    configuration.config_parser.set(section, key,str(value))\n",
    "\n",
    "    configuration.validate()\n",
    "\n",
    "    configuration.save('myConf.cfg')\n",
    "    return configuration\n"
   ]
  },
  {
   "cell_type": "code",
   "execution_count": 3,
   "metadata": {},
   "outputs": [
    {
     "name": "stdout",
     "output_type": "stream",
     "text": [
      "Elapsed time:  5.809301853179932\n"
     ]
    }
   ],
   "source": [
    "update = {'breeding_site':{ \n",
    "                            'amount':1\n",
    "                        }\n",
    "        }\n",
    "\n",
    "configuration = myConf(update)\n",
    "\n",
    "model = Model(configuration)\n",
    "t1 = time.time()\n",
    "time_range, results = model.solveEquations()\n",
    "t2 = time.time()\n",
    "print('Elapsed time: ', t2-t1)"
   ]
  },
  {
   "cell_type": "code",
   "execution_count": 14,
   "metadata": {},
   "outputs": [],
   "source": [
    "indexOf=lambda t: (np.abs(time_range-t)).argmin()\n",
    "\n",
    "start_datetime = datetime.datetime.strptime(configuration.getString('simulation','start_date'),'%Y-%m-%d')\n",
    "end_datetime = datetime.datetime.strptime(configuration.getString('simulation','end_date'),'%Y-%m-%d')\n",
    "dates = [(start_datetime + datetime.timedelta(days=t)) for t in time_range]\n",
    "\n",
    "parameters = model.parameters\n",
    "\n",
    "EGG    = parameters.EGG\n",
    "LARVAE = parameters.LARVAE\n",
    "PUPAE  = parameters.PUPAE\n",
    "ADULT1 = parameters.ADULT1\n",
    "ADULT2 = parameters.ADULT2\n",
    "WATER  = parameters.WATER\n",
    "OVIPOSITION = parameters.OVIPOSITION\n",
    "BS_a   = parameters.BS_a\n",
    "\n",
    "E = np.sum(results[:,EGG],axis=1)/BS_a\n",
    "L = np.sum(results[:,LARVAE],axis=1)/BS_a\n",
    "A = (results[:,ADULT1]+results[:,ADULT2])/BS_a\n",
    "\n",
    "lwO = np.array([results[indexOf(t),OVIPOSITION] - results[indexOf(t-7),OVIPOSITION] for t in time_range])\n",
    "lwO_mean = np.array([lwO[indexOf(t-7):indexOf(t+7)].mean(axis=0) for t in time_range])\n",
    "O = np.sum(lwO_mean,axis=1)/BS_a\n",
    "\n",
    "T  = parameters.weather.T\n",
    "RH = parameters.weather.RH\n",
    "P  = parameters.weather.p\n",
    "\n",
    "location = parameters.location['name']\n",
    "\n",
    "T = T(time_range) - 273.15\n",
    "P = P(time_range)\n",
    "RH = RH(time_range)\n",
    "\n",
    "df = pd.DataFrame({'date':dates,'E':E,'L':L,'A':A,'O':O,'p':P,'T':T,'RH':RH})\n",
    "df.set_index('date',inplace=True)\n",
    "df.to_csv('results.csv',index=True)"
   ]
  },
  {
   "cell_type": "code",
   "execution_count": 6,
   "metadata": {},
   "outputs": [],
   "source": [
    "import matplotlib.pyplot as plt"
   ]
  },
  {
   "cell_type": "code",
   "execution_count": null,
   "metadata": {},
   "outputs": [],
   "source": [
    "fig, axs = plt.subplots(3,1,figsize=(10,5),sharex=True)\n",
    "fig.subplots_adjust(hspace=0.0)\n",
    "\n",
    "axs[0].plot(df.index,df.E,label='Python')\n",
    "axs[0].legend()\n",
    "axs[0].set_ylabel('Eggs #')\n",
    "\n",
    "axs[1].plot(df.index,df.A,label='Python')\n",
    "axs[1].legend()\n",
    "axs[1].set_ylabel('Adults #')\n",
    "\n",
    "axs[2].plot(df.index,df.L,label='Python')\n",
    "axs[2].legend()\n",
    "axs[2].set_ylabel('Larvae #')"
   ]
  },
  {
   "cell_type": "code",
   "execution_count": 7,
   "metadata": {},
   "outputs": [],
   "source": [
    "# Comparación con el modelo c++\n",
    "df1 = pd.read_csv(\"../results_cpp.csv\",index_col=0)\n",
    "df1.index = pd.to_datetime(df1.index)"
   ]
  },
  {
   "cell_type": "code",
   "execution_count": null,
   "metadata": {},
   "outputs": [],
   "source": [
    "fig, axs = plt.subplots(2,1,height_ratios=[2,1],figsize=(10,5),sharex=True)\n",
    "fig.subplots_adjust(hspace=0.0)\n",
    "\n",
    "fig.suptitle('Comparison between Python and C++ results')\n",
    "\n",
    "axs[0].plot(df.index,df.E,label='Python')\n",
    "axs[0].plot(df1.index,df1.E,label='C++')\n",
    "axs[0].legend()\n",
    "axs[0].set_ylabel('Eggs #')\n",
    "\n",
    "axs[1].plot(df.index,np.abs((df.E - df1.E)/df1.E)*100)\n",
    "axs[1].semilogy();\n",
    "axs[1].set_ylabel('Relative error (%)');"
   ]
  },
  {
   "cell_type": "code",
   "execution_count": null,
   "metadata": {},
   "outputs": [],
   "source": [
    "fig, axs = plt.subplots(2,1,height_ratios=[2,1],figsize=(10,5),sharex=True)\n",
    "fig.subplots_adjust(hspace=0.0)\n",
    "\n",
    "fig.suptitle('Comparison between Python and C++ results')\n",
    "\n",
    "axs[0].plot(df.index,df.A,label='Python')\n",
    "axs[0].plot(df1.index,df1.A,label='C++')\n",
    "axs[0].legend()\n",
    "axs[0].set_ylabel('Adults #')\n",
    "\n",
    "axs[1].plot(df.index,np.abs((df.A - df1.A)/df1.A)*100)\n",
    "axs[1].semilogy();\n",
    "axs[1].set_ylabel('Relative error (%)');"
   ]
  },
  {
   "cell_type": "code",
   "execution_count": null,
   "metadata": {},
   "outputs": [],
   "source": [
    "fig, axs = plt.subplots(2,1,height_ratios=[2,1],figsize=(10,5),sharex=True)\n",
    "fig.subplots_adjust(hspace=0.0)\n",
    "\n",
    "fig.suptitle('Comparison between Python and C++ results')\n",
    "\n",
    "axs[0].plot(df.index,df.L,label='Python')\n",
    "axs[0].plot(df1.index,df1.L,label='C++')\n",
    "axs[0].legend()\n",
    "axs[0].set_ylabel('Larvae #')\n",
    "\n",
    "axs[1].plot(df.index,np.abs((df.L - df1.L)/(df1.L+1.e-10))*100)\n",
    "axs[1].semilogy();\n",
    "axs[1].set_ylabel('Relative error (%)');"
   ]
  },
  {
   "cell_type": "code",
   "execution_count": null,
   "metadata": {},
   "outputs": [],
   "source": []
  }
 ],
 "metadata": {
  "kernelspec": {
   "display_name": "aedes",
   "language": "python",
   "name": "python3"
  },
  "language_info": {
   "codemirror_mode": {
    "name": "ipython",
    "version": 3
   },
   "file_extension": ".py",
   "mimetype": "text/x-python",
   "name": "python",
   "nbconvert_exporter": "python",
   "pygments_lexer": "ipython3",
   "version": "3.8.18"
  }
 },
 "nbformat": 4,
 "nbformat_minor": 2
}
